{
 "cells": [
  {
   "cell_type": "code",
   "execution_count": 13,
   "metadata": {},
   "outputs": [],
   "source": [
    "import pandas as pd"
   ]
  },
  {
   "cell_type": "code",
   "execution_count": 1,
   "metadata": {},
   "outputs": [],
   "source": [
    "import json"
   ]
  },
  {
   "cell_type": "code",
   "execution_count": 10,
   "metadata": {},
   "outputs": [
    {
     "data": {
      "text/plain": [
       "{'affiliation': [('Guangzhou', 'China'),\n",
       "  ('Bangkok', 'Thailand'),\n",
       "  ('Qinhuangdao', 'China')]}"
      ]
     },
     "execution_count": 10,
     "metadata": {},
     "output_type": "execute_result"
    }
   ],
   "source": [
    "# data = json.load(open('2018/201800010'))\n",
    "\n",
    "# tmp = {}\n",
    "\n",
    "# affiliation = data['abstracts-retrieval-response']['affiliation']\n",
    "# if isinstance(affiliation, list):\n",
    "#     tmp['affiliation'] = list({(e['affiliation-city'], e['affiliation-country']) for e in affiliation})\n",
    "# else:\n",
    "#     tmp['affiliation'] = [(affiliation['affiliation-city'], affiliation['affiliation-country'])]\n",
    "\n",
    "# tmp"
   ]
  },
  {
   "cell_type": "code",
   "execution_count": 11,
   "metadata": {},
   "outputs": [],
   "source": [
    "import glob\n",
    "import json\n",
    "\n",
    "agg = []\n",
    "\n",
    "\n",
    "for f in glob.glob(\"**/*\"):\n",
    "    data = json.load(open(f))\n",
    "    tmp = {}\n",
    "    tmp[\"title\"] = data[\"abstracts-retrieval-response\"][\"item\"][\"bibrecord\"][\"head\"][\n",
    "        \"citation-title\"\n",
    "    ]\n",
    "    tmp[\"abstract\"] = data[\"abstracts-retrieval-response\"][\"item\"][\"bibrecord\"][\"head\"][\n",
    "        \"abstracts\"\n",
    "    ]\n",
    "    tmp[\"classification\"] = data[\"abstracts-retrieval-response\"][\"item\"][\"bibrecord\"][\n",
    "        \"head\"\n",
    "    ][\"enhancement\"][\"classificationgroup\"][\"classifications\"]\n",
    "    tmp[\"year\"] = data[\"abstracts-retrieval-response\"][\"item\"][\"ait:process-info\"][\n",
    "        \"ait:date-delivered\"\n",
    "    ][\"@year\"]\n",
    "    tmp[\"month\"] = data[\"abstracts-retrieval-response\"][\"item\"][\"ait:process-info\"][\n",
    "        \"ait:date-delivered\"\n",
    "    ][\"@month\"]\n",
    "    affiliation = data['abstracts-retrieval-response']['affiliation']\n",
    "    if isinstance(affiliation, list):\n",
    "        tmp['affiliation'] = list({(e['affiliation-city'], e['affiliation-country']) for e in affiliation})\n",
    "    else:\n",
    "        tmp['affiliation'] = [(affiliation['affiliation-city'], affiliation['affiliation-country'])]\n",
    "    agg.append(tmp)"
   ]
  },
  {
   "cell_type": "code",
   "execution_count": 14,
   "metadata": {},
   "outputs": [],
   "source": [
    "df = pd.DataFrame(agg)"
   ]
  },
  {
   "cell_type": "code",
   "execution_count": 15,
   "metadata": {},
   "outputs": [],
   "source": [
    "df[df[\"abstract\"].notna() & df[\"title\"].notna()].to_json(\"cleaned2.json\")"
   ]
  }
 ],
 "metadata": {
  "kernelspec": {
   "display_name": "data_science",
   "language": "python",
   "name": "python3"
  },
  "language_info": {
   "codemirror_mode": {
    "name": "ipython",
    "version": 3
   },
   "file_extension": ".py",
   "mimetype": "text/x-python",
   "name": "python",
   "nbconvert_exporter": "python",
   "pygments_lexer": "ipython3",
   "version": "3.12.2"
  }
 },
 "nbformat": 4,
 "nbformat_minor": 2
}
